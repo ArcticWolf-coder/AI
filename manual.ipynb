{
 "cells": [
  {
   "cell_type": "code",
   "execution_count": null,
   "metadata": {},
   "outputs": [],
   "source": [
    "import numpy as np\n",
    "from scipy import misc\n",
    "i = misc.ascent()\n",
    "i_transformed = np.copy(i)\n",
    "size_x = i_transformed.shape[0]\n",
    "size_y = i_transformed.shape[1]"
   ]
  },
  {
   "cell_type": "code",
   "execution_count": null,
   "metadata": {},
   "outputs": [],
   "source": [
    "import matplotlib.pyplot as plt\n",
    "plt.grid(False)\n",
    "plt.gray()\n",
    "plt.axis('off')\n",
    "plt.imshow(i)\n",
    "plt.show()"
   ]
  },
  {
   "cell_type": "code",
   "execution_count": null,
   "metadata": {},
   "outputs": [],
   "source": [
    "# This filter detects edges nicely\n",
    "# It creates a convolution that only passes through sharp edges and straight\n",
    "# lines.\n",
    "\n",
    "#Experiment with different values for fun effects.\n",
    "filter = [ [0, 1, 0], [1, -4, 1], [0, 1, 0]]\n",
    "\n",
    "# A couple more filters to try for fun!\n",
    "#filter = [ [-1, -2, -1], [0, 0, 0], [1, 2, 1]]\n",
    "#filter = [ [-1, 0, 1], [-2, 0, 2], [-1, 0, 1]]\n",
    "\n",
    "# If all the digits in the filter don't add up to 0 or 1, you \n",
    "# should probably do a weight to get it to do so\n",
    "# so, for example, if your weights are 1,1,1 1,2,1 1,1,1\n",
    "# They add up to 10, so you would set a weight of .1 if you want to normalize them\n",
    "weight  = 1"
   ]
  },
  {
   "cell_type": "code",
   "execution_count": null,
   "metadata": {},
   "outputs": [],
   "source": [
    "for x in range(1,size_x-1):\n",
    "  for y in range(1,size_y-1):\n",
    "      convolution = 0.0\n",
    "      convolution = convolution + (i[x - 1, y-1] * filter[0][0])\n",
    "      convolution = convolution + (i[x, y-1] * filter[0][1])\n",
    "      convolution = convolution + (i[x + 1, y-1] * filter[0][2])\n",
    "      convolution = convolution + (i[x-1, y] * filter[1][0])\n",
    "      convolution = convolution + (i[x, y] * filter[1][1])\n",
    "      convolution = convolution + (i[x+1, y] * filter[1][2])\n",
    "      convolution = convolution + (i[x-1, y+1] * filter[2][0])\n",
    "      convolution = convolution + (i[x, y+1] * filter[2][1])\n",
    "      convolution = convolution + (i[x+1, y+1] * filter[2][2])\n",
    "      convolution = convolution * weight\n",
    "      if(convolution<0):\n",
    "        convolution=0\n",
    "      if(convolution>255):\n",
    "        convolution=255\n",
    "      i_transformed[x, y] = convolution\n",
    "\n",
    "# Plot the image. Note the size of the axes -- they are 512 by 512\n",
    "plt.gray()\n",
    "plt.grid(False)\n",
    "plt.imshow(i_transformed)\n",
    "#plt.axis('off')\n",
    "plt.show()   "
   ]
  },
  {
   "cell_type": "code",
   "execution_count": null,
   "metadata": {},
   "outputs": [],
   "source": [
    "new_x = int(size_x/2)\n",
    "new_y = int(size_y/2)\n",
    "newImage = np.zeros((new_x, new_y))\n",
    "for x in range(0, size_x, 2):\n",
    "  for y in range(0, size_y, 2):\n",
    "    pixels = []\n",
    "    pixels.append(i_transformed[x, y])\n",
    "    pixels.append(i_transformed[x+1, y])\n",
    "    pixels.append(i_transformed[x, y+1])\n",
    "    pixels.append(i_transformed[x+1, y+1])\n",
    "    newImage[int(x/2),int(y/2)] = max(pixels)\n",
    "\n",
    "# Plot the image. Note the size of the axes -- now 256 pixels instead of 512\n",
    "plt.gray()\n",
    "plt.grid(False)\n",
    "plt.imshow(newImage)\n",
    "#plt.axis('off')\n",
    "plt.show()      "
   ]
  }
 ],
 "metadata": {
  "language_info": {
   "codemirror_mode": {
    "name": "ipython",
    "version": 3
   },
   "file_extension": ".py",
   "mimetype": "text/x-python",
   "name": "python",
   "nbconvert_exporter": "python",
   "pygments_lexer": "ipython3",
   "version": 3
  },
  "orig_nbformat": 2
 },
 "nbformat": 4,
 "nbformat_minor": 2
}